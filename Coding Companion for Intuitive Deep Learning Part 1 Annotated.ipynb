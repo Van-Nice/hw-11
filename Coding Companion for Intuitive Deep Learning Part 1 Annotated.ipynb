{
 "cells": [
  {
   "cell_type": "markdown",
   "metadata": {},
   "source": [
    "# Name: Wilson Van Nice\n",
    "# The author of this file is Joseph Lee Wei En\n",
    "\n",
    "\n",
    "# Coding Companion for Intuitive Deep Learning Part 1 (Annotated)"
   ]
  },
  {
   "cell_type": "markdown",
   "metadata": {},
   "source": [
    "In this notebook, we'll go through the code for the coding companion for Intuitive Deep Learning Part 1 ([Part 1a](https://medium.com/intuitive-deep-learning/intuitive-deep-learning-part-1a-introduction-to-neural-networks-d7b16ebf6b99), [Part 1b](https://medium.com/intuitive-deep-learning/intuitive-deep-learning-part-1b-introduction-to-neural-networks-8565d97ddd2d)) to create your very first neural network to predict whether the house price is below or above median value. We will go through the following in this notebook:\n",
    "\n",
    "- Exploring and Processing the Data\n",
    "- Building and Training our Neural Network\n",
    "- Visualizing Loss and Accuracy\n",
    "- Adding Regularization to our Neural Network\n",
    "\n",
    "The code is annotated throughout the notebook and you simply need to download the dataset [here](https://drive.google.com/file/d/1GfvKA0qznNVknghV4botnNxyH-KvODOC/view), put the dataset in the same folder as this notebook and run the code cells below. Note that the results you get might differ slightly from the blogpost as there is a degree of randomness in the way we split our dataset as well as the initialization of our neural network."
   ]
  },
  {
   "cell_type": "markdown",
   "metadata": {},
   "source": [
    "# Exploring and Processing the Data"
   ]
  },
  {
   "cell_type": "markdown",
   "metadata": {},
   "source": [
    "We first have to read in the CSV file that we've been given. We'll use a package called pandas for that:"
   ]
  },
  {
   "cell_type": "code",
   "execution_count": 1,
   "metadata": {},
   "outputs": [],
   "source": [
    "import pandas as pd"
   ]
  },
  {
   "cell_type": "code",
   "execution_count": 2,
   "metadata": {},
   "outputs": [],
   "source": [
    "df = pd.read_csv('housepricedata.csv')"
   ]
  },
  {
   "cell_type": "code",
   "execution_count": 3,
   "metadata": {},
   "outputs": [
    {
     "data": {
      "text/plain": "      LotArea  OverallQual  OverallCond  TotalBsmtSF  FullBath  HalfBath  \\\n0        8450            7            5          856         2         1   \n1        9600            6            8         1262         2         0   \n2       11250            7            5          920         2         1   \n3        9550            7            5          756         1         0   \n4       14260            8            5         1145         2         1   \n...       ...          ...          ...          ...       ...       ...   \n1455     7917            6            5          953         2         1   \n1456    13175            6            6         1542         2         0   \n1457     9042            7            9         1152         2         0   \n1458     9717            5            6         1078         1         0   \n1459     9937            5            6         1256         1         1   \n\n      BedroomAbvGr  TotRmsAbvGrd  Fireplaces  GarageArea  AboveMedianPrice  \n0                3             8           0         548                 1  \n1                3             6           1         460                 1  \n2                3             6           1         608                 1  \n3                3             7           1         642                 0  \n4                4             9           1         836                 1  \n...            ...           ...         ...         ...               ...  \n1455             3             7           1         460                 1  \n1456             3             7           2         500                 1  \n1457             4             9           2         252                 1  \n1458             2             5           0         240                 0  \n1459             3             6           0         276                 0  \n\n[1460 rows x 11 columns]",
      "text/html": "<div>\n<style scoped>\n    .dataframe tbody tr th:only-of-type {\n        vertical-align: middle;\n    }\n\n    .dataframe tbody tr th {\n        vertical-align: top;\n    }\n\n    .dataframe thead th {\n        text-align: right;\n    }\n</style>\n<table border=\"1\" class=\"dataframe\">\n  <thead>\n    <tr style=\"text-align: right;\">\n      <th></th>\n      <th>LotArea</th>\n      <th>OverallQual</th>\n      <th>OverallCond</th>\n      <th>TotalBsmtSF</th>\n      <th>FullBath</th>\n      <th>HalfBath</th>\n      <th>BedroomAbvGr</th>\n      <th>TotRmsAbvGrd</th>\n      <th>Fireplaces</th>\n      <th>GarageArea</th>\n      <th>AboveMedianPrice</th>\n    </tr>\n  </thead>\n  <tbody>\n    <tr>\n      <th>0</th>\n      <td>8450</td>\n      <td>7</td>\n      <td>5</td>\n      <td>856</td>\n      <td>2</td>\n      <td>1</td>\n      <td>3</td>\n      <td>8</td>\n      <td>0</td>\n      <td>548</td>\n      <td>1</td>\n    </tr>\n    <tr>\n      <th>1</th>\n      <td>9600</td>\n      <td>6</td>\n      <td>8</td>\n      <td>1262</td>\n      <td>2</td>\n      <td>0</td>\n      <td>3</td>\n      <td>6</td>\n      <td>1</td>\n      <td>460</td>\n      <td>1</td>\n    </tr>\n    <tr>\n      <th>2</th>\n      <td>11250</td>\n      <td>7</td>\n      <td>5</td>\n      <td>920</td>\n      <td>2</td>\n      <td>1</td>\n      <td>3</td>\n      <td>6</td>\n      <td>1</td>\n      <td>608</td>\n      <td>1</td>\n    </tr>\n    <tr>\n      <th>3</th>\n      <td>9550</td>\n      <td>7</td>\n      <td>5</td>\n      <td>756</td>\n      <td>1</td>\n      <td>0</td>\n      <td>3</td>\n      <td>7</td>\n      <td>1</td>\n      <td>642</td>\n      <td>0</td>\n    </tr>\n    <tr>\n      <th>4</th>\n      <td>14260</td>\n      <td>8</td>\n      <td>5</td>\n      <td>1145</td>\n      <td>2</td>\n      <td>1</td>\n      <td>4</td>\n      <td>9</td>\n      <td>1</td>\n      <td>836</td>\n      <td>1</td>\n    </tr>\n    <tr>\n      <th>...</th>\n      <td>...</td>\n      <td>...</td>\n      <td>...</td>\n      <td>...</td>\n      <td>...</td>\n      <td>...</td>\n      <td>...</td>\n      <td>...</td>\n      <td>...</td>\n      <td>...</td>\n      <td>...</td>\n    </tr>\n    <tr>\n      <th>1455</th>\n      <td>7917</td>\n      <td>6</td>\n      <td>5</td>\n      <td>953</td>\n      <td>2</td>\n      <td>1</td>\n      <td>3</td>\n      <td>7</td>\n      <td>1</td>\n      <td>460</td>\n      <td>1</td>\n    </tr>\n    <tr>\n      <th>1456</th>\n      <td>13175</td>\n      <td>6</td>\n      <td>6</td>\n      <td>1542</td>\n      <td>2</td>\n      <td>0</td>\n      <td>3</td>\n      <td>7</td>\n      <td>2</td>\n      <td>500</td>\n      <td>1</td>\n    </tr>\n    <tr>\n      <th>1457</th>\n      <td>9042</td>\n      <td>7</td>\n      <td>9</td>\n      <td>1152</td>\n      <td>2</td>\n      <td>0</td>\n      <td>4</td>\n      <td>9</td>\n      <td>2</td>\n      <td>252</td>\n      <td>1</td>\n    </tr>\n    <tr>\n      <th>1458</th>\n      <td>9717</td>\n      <td>5</td>\n      <td>6</td>\n      <td>1078</td>\n      <td>1</td>\n      <td>0</td>\n      <td>2</td>\n      <td>5</td>\n      <td>0</td>\n      <td>240</td>\n      <td>0</td>\n    </tr>\n    <tr>\n      <th>1459</th>\n      <td>9937</td>\n      <td>5</td>\n      <td>6</td>\n      <td>1256</td>\n      <td>1</td>\n      <td>1</td>\n      <td>3</td>\n      <td>6</td>\n      <td>0</td>\n      <td>276</td>\n      <td>0</td>\n    </tr>\n  </tbody>\n</table>\n<p>1460 rows × 11 columns</p>\n</div>"
     },
     "execution_count": 3,
     "metadata": {},
     "output_type": "execute_result"
    }
   ],
   "source": [
    "df"
   ]
  },
  {
   "cell_type": "markdown",
   "metadata": {},
   "source": [
    "The dataset that we have now is in what we call a pandas dataframe. To convert it to an array, simply access its values:"
   ]
  },
  {
   "cell_type": "code",
   "execution_count": 4,
   "metadata": {},
   "outputs": [],
   "source": [
    "dataset = df.values"
   ]
  },
  {
   "cell_type": "code",
   "execution_count": 5,
   "metadata": {},
   "outputs": [
    {
     "data": {
      "text/plain": "array([[ 8450,     7,     5, ...,     0,   548,     1],\n       [ 9600,     6,     8, ...,     1,   460,     1],\n       [11250,     7,     5, ...,     1,   608,     1],\n       ...,\n       [ 9042,     7,     9, ...,     2,   252,     1],\n       [ 9717,     5,     6, ...,     0,   240,     0],\n       [ 9937,     5,     6, ...,     0,   276,     0]])"
     },
     "execution_count": 5,
     "metadata": {},
     "output_type": "execute_result"
    }
   ],
   "source": [
    "dataset"
   ]
  },
  {
   "cell_type": "markdown",
   "metadata": {},
   "source": [
    "Now, we split the dataset into our input features and the label we wish to predict."
   ]
  },
  {
   "cell_type": "code",
   "execution_count": 6,
   "metadata": {},
   "outputs": [],
   "source": [
    "X = dataset[:,0:10]\n",
    "Y = dataset[:,10]"
   ]
  },
  {
   "cell_type": "markdown",
   "metadata": {},
   "source": [
    "Normalizing our data is very important, as we want the input features to be on the same order of magnitude to make our training easier. We'll use a min-max scaler from scikit-learn which scales our data to be between 0 and 1."
   ]
  },
  {
   "cell_type": "code",
   "execution_count": 7,
   "metadata": {},
   "outputs": [],
   "source": [
    "from sklearn import preprocessing"
   ]
  },
  {
   "cell_type": "code",
   "execution_count": 8,
   "metadata": {},
   "outputs": [],
   "source": [
    "min_max_scaler = preprocessing.MinMaxScaler()\n",
    "X_scale = min_max_scaler.fit_transform(X)"
   ]
  },
  {
   "cell_type": "code",
   "execution_count": 9,
   "metadata": {},
   "outputs": [
    {
     "data": {
      "text/plain": "array([[0.0334198 , 0.66666667, 0.5       , ..., 0.5       , 0.        ,\n        0.3864598 ],\n       [0.03879502, 0.55555556, 0.875     , ..., 0.33333333, 0.33333333,\n        0.32440056],\n       [0.04650728, 0.66666667, 0.5       , ..., 0.33333333, 0.33333333,\n        0.42877292],\n       ...,\n       [0.03618687, 0.66666667, 1.        , ..., 0.58333333, 0.66666667,\n        0.17771509],\n       [0.03934189, 0.44444444, 0.625     , ..., 0.25      , 0.        ,\n        0.16925247],\n       [0.04037019, 0.44444444, 0.625     , ..., 0.33333333, 0.        ,\n        0.19464034]])"
     },
     "execution_count": 9,
     "metadata": {},
     "output_type": "execute_result"
    }
   ],
   "source": [
    "X_scale"
   ]
  },
  {
   "cell_type": "markdown",
   "metadata": {},
   "source": [
    "Lastly, we wish to set aside some parts of our dataset for a validation set and a test set. We use the function train_test_split from scikit-learn to do that."
   ]
  },
  {
   "cell_type": "code",
   "execution_count": 10,
   "metadata": {},
   "outputs": [],
   "source": [
    "from sklearn.model_selection import train_test_split"
   ]
  },
  {
   "cell_type": "code",
   "execution_count": 11,
   "metadata": {},
   "outputs": [],
   "source": [
    "X_train, X_val_and_test, Y_train, Y_val_and_test = train_test_split(X_scale, Y, test_size=0.3)"
   ]
  },
  {
   "cell_type": "code",
   "execution_count": 12,
   "metadata": {},
   "outputs": [],
   "source": [
    "X_val, X_test, Y_val, Y_test = train_test_split(X_val_and_test, Y_val_and_test, test_size=0.5)"
   ]
  },
  {
   "cell_type": "code",
   "execution_count": 13,
   "metadata": {},
   "outputs": [
    {
     "name": "stdout",
     "output_type": "stream",
     "text": [
      "(1022, 10) (219, 10) (219, 10) (1022,) (219,) (219,)\n"
     ]
    }
   ],
   "source": [
    "print(X_train.shape, X_val.shape, X_test.shape, Y_train.shape, Y_val.shape, Y_test.shape)"
   ]
  },
  {
   "cell_type": "markdown",
   "metadata": {},
   "source": [
    "# Building and Training Our First Neural Network"
   ]
  },
  {
   "cell_type": "markdown",
   "metadata": {},
   "source": [
    "We will be using Keras to build our architecture. Let's import the code from Keras that we will need to use:"
   ]
  },
  {
   "cell_type": "code",
   "execution_count": 14,
   "metadata": {},
   "outputs": [],
   "source": [
    "from keras.models import Sequential\n",
    "from keras.layers import Dense"
   ]
  },
  {
   "cell_type": "markdown",
   "metadata": {},
   "source": [
    "We will be using the Sequential model, which means that we merely need to describe the layers above in sequence. Our neural network has three layers:\n",
    "\n",
    "- Hidden layer 1: 30 neurons, ReLU activation\n",
    "- Hidden layer 2: 30 neurons, ReLU activation\n",
    "- Output Layer: 1 neuron, Sigmoid activation"
   ]
  },
  {
   "cell_type": "code",
   "execution_count": 15,
   "metadata": {},
   "outputs": [
    {
     "name": "stdout",
     "output_type": "stream",
     "text": [
      "Metal device set to: Apple M1 Pro\n"
     ]
    },
    {
     "name": "stderr",
     "output_type": "stream",
     "text": [
      "2022-12-04 16:45:55.074658: I tensorflow/core/common_runtime/pluggable_device/pluggable_device_factory.cc:305] Could not identify NUMA node of platform GPU ID 0, defaulting to 0. Your kernel may not have been built with NUMA support.\n",
      "2022-12-04 16:45:55.075246: I tensorflow/core/common_runtime/pluggable_device/pluggable_device_factory.cc:271] Created TensorFlow device (/job:localhost/replica:0/task:0/device:GPU:0 with 0 MB memory) -> physical PluggableDevice (device: 0, name: METAL, pci bus id: <undefined>)\n"
     ]
    }
   ],
   "source": [
    "model = Sequential([\n",
    "    Dense(32, activation='relu', input_shape=(10,)),\n",
    "    Dense(32, activation='relu'),\n",
    "    Dense(1, activation='sigmoid'),\n",
    "])"
   ]
  },
  {
   "cell_type": "markdown",
   "metadata": {},
   "source": [
    "Now that we've got our architecture specified, we need to find the best numbers for it. Before we start our training, we have to configure the model by\n",
    "- Telling it what algorithm you want to use to do the optimization (we'll use stochastic gradient descent)\n",
    "- Telling it what loss function to use (for binary classification, we will use binary cross entropy)\n",
    "- Telling it what other metrics you want to track apart from the loss function (we want to track accuracy as well)\n",
    "\n",
    "We do so below:"
   ]
  },
  {
   "cell_type": "code",
   "execution_count": 16,
   "metadata": {},
   "outputs": [],
   "source": [
    "model.compile(optimizer='sgd',\n",
    "              loss='binary_crossentropy',\n",
    "              metrics=['accuracy'])"
   ]
  },
  {
   "cell_type": "markdown",
   "metadata": {},
   "source": [
    "Training on the data is pretty straightforward and requires us to write one line of code. The function is called 'fit' as we are fitting the parameters to the data. We specify:\n",
    "- what data we are training on, which is X_train and Y_train\n",
    "- the size of our mini-batch \n",
    "- how long we want to train it for (epochs)\n",
    "- what our validation data is so that the model will tell us how we are doing on the validation data at each point.\n",
    "\n",
    "This function will output a history, which we save under the variable hist. We'll use this variable a little later."
   ]
  },
  {
   "cell_type": "code",
   "execution_count": 17,
   "metadata": {},
   "outputs": [
    {
     "name": "stdout",
     "output_type": "stream",
     "text": [
      "Epoch 1/100\n"
     ]
    },
    {
     "name": "stderr",
     "output_type": "stream",
     "text": [
      "2022-12-04 16:46:14.543567: W tensorflow/core/platform/profile_utils/cpu_utils.cc:128] Failed to get CPU frequency: 0 Hz\n",
      "2022-12-04 16:46:14.791653: I tensorflow/core/grappler/optimizers/custom_graph_optimizer_registry.cc:113] Plugin optimizer for device_type GPU is enabled.\n"
     ]
    },
    {
     "name": "stdout",
     "output_type": "stream",
     "text": [
      "32/32 [==============================] - 3s 22ms/step - loss: 0.6834 - accuracy: 0.5890 - val_loss: 0.6792 - val_accuracy: 0.6667\n",
      "Epoch 2/100\n",
      " 8/32 [======>.......................] - ETA: 0s - loss: 0.6797 - accuracy: 0.6328"
     ]
    },
    {
     "name": "stderr",
     "output_type": "stream",
     "text": [
      "2022-12-04 16:46:17.153291: I tensorflow/core/grappler/optimizers/custom_graph_optimizer_registry.cc:113] Plugin optimizer for device_type GPU is enabled.\n"
     ]
    },
    {
     "name": "stdout",
     "output_type": "stream",
     "text": [
      "32/32 [==============================] - 0s 9ms/step - loss: 0.6779 - accuracy: 0.6703 - val_loss: 0.6728 - val_accuracy: 0.7489\n",
      "Epoch 3/100\n",
      "32/32 [==============================] - 0s 8ms/step - loss: 0.6731 - accuracy: 0.7055 - val_loss: 0.6667 - val_accuracy: 0.7763\n",
      "Epoch 4/100\n",
      "32/32 [==============================] - 0s 8ms/step - loss: 0.6683 - accuracy: 0.7250 - val_loss: 0.6608 - val_accuracy: 0.7945\n",
      "Epoch 5/100\n",
      "32/32 [==============================] - 0s 8ms/step - loss: 0.6633 - accuracy: 0.7192 - val_loss: 0.6553 - val_accuracy: 0.8037\n",
      "Epoch 6/100\n",
      "32/32 [==============================] - 0s 8ms/step - loss: 0.6583 - accuracy: 0.7358 - val_loss: 0.6495 - val_accuracy: 0.8356\n",
      "Epoch 7/100\n",
      "32/32 [==============================] - 0s 8ms/step - loss: 0.6529 - accuracy: 0.7613 - val_loss: 0.6432 - val_accuracy: 0.8356\n",
      "Epoch 8/100\n",
      "32/32 [==============================] - 0s 8ms/step - loss: 0.6474 - accuracy: 0.7701 - val_loss: 0.6372 - val_accuracy: 0.8265\n",
      "Epoch 9/100\n",
      "32/32 [==============================] - 0s 8ms/step - loss: 0.6419 - accuracy: 0.7740 - val_loss: 0.6316 - val_accuracy: 0.8311\n",
      "Epoch 10/100\n",
      "32/32 [==============================] - 0s 8ms/step - loss: 0.6363 - accuracy: 0.7926 - val_loss: 0.6256 - val_accuracy: 0.8356\n",
      "Epoch 11/100\n",
      "32/32 [==============================] - 0s 8ms/step - loss: 0.6305 - accuracy: 0.8307 - val_loss: 0.6187 - val_accuracy: 0.8402\n",
      "Epoch 12/100\n",
      "32/32 [==============================] - 0s 8ms/step - loss: 0.6245 - accuracy: 0.7965 - val_loss: 0.6139 - val_accuracy: 0.8447\n",
      "Epoch 13/100\n",
      "32/32 [==============================] - 0s 8ms/step - loss: 0.6185 - accuracy: 0.8327 - val_loss: 0.6072 - val_accuracy: 0.8493\n",
      "Epoch 14/100\n",
      "32/32 [==============================] - 0s 8ms/step - loss: 0.6120 - accuracy: 0.8386 - val_loss: 0.6012 - val_accuracy: 0.8539\n",
      "Epoch 15/100\n",
      "32/32 [==============================] - 0s 8ms/step - loss: 0.6057 - accuracy: 0.8464 - val_loss: 0.5943 - val_accuracy: 0.8493\n",
      "Epoch 16/100\n",
      "32/32 [==============================] - 0s 8ms/step - loss: 0.5990 - accuracy: 0.8454 - val_loss: 0.5876 - val_accuracy: 0.8447\n",
      "Epoch 17/100\n",
      "32/32 [==============================] - 0s 7ms/step - loss: 0.5921 - accuracy: 0.8542 - val_loss: 0.5794 - val_accuracy: 0.8493\n",
      "Epoch 18/100\n",
      "32/32 [==============================] - 0s 8ms/step - loss: 0.5848 - accuracy: 0.8513 - val_loss: 0.5721 - val_accuracy: 0.8493\n",
      "Epoch 19/100\n",
      "32/32 [==============================] - 0s 8ms/step - loss: 0.5774 - accuracy: 0.8562 - val_loss: 0.5635 - val_accuracy: 0.8493\n",
      "Epoch 20/100\n",
      "32/32 [==============================] - 0s 8ms/step - loss: 0.5696 - accuracy: 0.8571 - val_loss: 0.5555 - val_accuracy: 0.8539\n",
      "Epoch 21/100\n",
      "32/32 [==============================] - 0s 7ms/step - loss: 0.5615 - accuracy: 0.8532 - val_loss: 0.5480 - val_accuracy: 0.8630\n",
      "Epoch 22/100\n",
      "32/32 [==============================] - 0s 8ms/step - loss: 0.5530 - accuracy: 0.8620 - val_loss: 0.5385 - val_accuracy: 0.8584\n",
      "Epoch 23/100\n",
      "32/32 [==============================] - 0s 8ms/step - loss: 0.5443 - accuracy: 0.8581 - val_loss: 0.5304 - val_accuracy: 0.8630\n",
      "Epoch 24/100\n",
      "32/32 [==============================] - 0s 8ms/step - loss: 0.5353 - accuracy: 0.8659 - val_loss: 0.5203 - val_accuracy: 0.8630\n",
      "Epoch 25/100\n",
      "32/32 [==============================] - 0s 7ms/step - loss: 0.5260 - accuracy: 0.8620 - val_loss: 0.5103 - val_accuracy: 0.8630\n",
      "Epoch 26/100\n",
      "32/32 [==============================] - 0s 8ms/step - loss: 0.5166 - accuracy: 0.8591 - val_loss: 0.5025 - val_accuracy: 0.8721\n",
      "Epoch 27/100\n",
      "32/32 [==============================] - 0s 8ms/step - loss: 0.5071 - accuracy: 0.8718 - val_loss: 0.4915 - val_accuracy: 0.8630\n",
      "Epoch 28/100\n",
      "32/32 [==============================] - 0s 8ms/step - loss: 0.4977 - accuracy: 0.8679 - val_loss: 0.4825 - val_accuracy: 0.8676\n",
      "Epoch 29/100\n",
      "32/32 [==============================] - 0s 7ms/step - loss: 0.4885 - accuracy: 0.8699 - val_loss: 0.4736 - val_accuracy: 0.8721\n",
      "Epoch 30/100\n",
      "32/32 [==============================] - 0s 8ms/step - loss: 0.4790 - accuracy: 0.8679 - val_loss: 0.4666 - val_accuracy: 0.8767\n",
      "Epoch 31/100\n",
      "32/32 [==============================] - 0s 8ms/step - loss: 0.4697 - accuracy: 0.8728 - val_loss: 0.4576 - val_accuracy: 0.8767\n",
      "Epoch 32/100\n",
      "32/32 [==============================] - 0s 8ms/step - loss: 0.4607 - accuracy: 0.8777 - val_loss: 0.4491 - val_accuracy: 0.8767\n",
      "Epoch 33/100\n",
      "32/32 [==============================] - 0s 8ms/step - loss: 0.4516 - accuracy: 0.8748 - val_loss: 0.4394 - val_accuracy: 0.8767\n",
      "Epoch 34/100\n",
      "32/32 [==============================] - 0s 8ms/step - loss: 0.4429 - accuracy: 0.8738 - val_loss: 0.4302 - val_accuracy: 0.8767\n",
      "Epoch 35/100\n",
      "32/32 [==============================] - 0s 9ms/step - loss: 0.4346 - accuracy: 0.8728 - val_loss: 0.4239 - val_accuracy: 0.8767\n",
      "Epoch 36/100\n",
      "32/32 [==============================] - 0s 8ms/step - loss: 0.4264 - accuracy: 0.8738 - val_loss: 0.4170 - val_accuracy: 0.8767\n",
      "Epoch 37/100\n",
      "32/32 [==============================] - 0s 8ms/step - loss: 0.4186 - accuracy: 0.8777 - val_loss: 0.4090 - val_accuracy: 0.8767\n",
      "Epoch 38/100\n",
      "32/32 [==============================] - 0s 8ms/step - loss: 0.4108 - accuracy: 0.8777 - val_loss: 0.4042 - val_accuracy: 0.8721\n",
      "Epoch 39/100\n",
      "32/32 [==============================] - 0s 7ms/step - loss: 0.4033 - accuracy: 0.8767 - val_loss: 0.4004 - val_accuracy: 0.8630\n",
      "Epoch 40/100\n",
      "32/32 [==============================] - 0s 8ms/step - loss: 0.3967 - accuracy: 0.8728 - val_loss: 0.3897 - val_accuracy: 0.8767\n",
      "Epoch 41/100\n",
      "32/32 [==============================] - 0s 8ms/step - loss: 0.3899 - accuracy: 0.8738 - val_loss: 0.3857 - val_accuracy: 0.8721\n",
      "Epoch 42/100\n",
      "32/32 [==============================] - 0s 8ms/step - loss: 0.3836 - accuracy: 0.8836 - val_loss: 0.3793 - val_accuracy: 0.8721\n",
      "Epoch 43/100\n",
      "32/32 [==============================] - 0s 8ms/step - loss: 0.3772 - accuracy: 0.8787 - val_loss: 0.3785 - val_accuracy: 0.8630\n",
      "Epoch 44/100\n",
      "32/32 [==============================] - 0s 8ms/step - loss: 0.3723 - accuracy: 0.8806 - val_loss: 0.3724 - val_accuracy: 0.8676\n",
      "Epoch 45/100\n",
      "32/32 [==============================] - 0s 8ms/step - loss: 0.3663 - accuracy: 0.8826 - val_loss: 0.3662 - val_accuracy: 0.8676\n",
      "Epoch 46/100\n",
      "32/32 [==============================] - 0s 8ms/step - loss: 0.3611 - accuracy: 0.8816 - val_loss: 0.3610 - val_accuracy: 0.8676\n",
      "Epoch 47/100\n",
      "32/32 [==============================] - 0s 8ms/step - loss: 0.3565 - accuracy: 0.8806 - val_loss: 0.3608 - val_accuracy: 0.8721\n",
      "Epoch 48/100\n",
      "32/32 [==============================] - 0s 8ms/step - loss: 0.3519 - accuracy: 0.8836 - val_loss: 0.3519 - val_accuracy: 0.8676\n",
      "Epoch 49/100\n",
      "32/32 [==============================] - 0s 8ms/step - loss: 0.3479 - accuracy: 0.8806 - val_loss: 0.3494 - val_accuracy: 0.8676\n",
      "Epoch 50/100\n",
      "32/32 [==============================] - 0s 8ms/step - loss: 0.3439 - accuracy: 0.8806 - val_loss: 0.3497 - val_accuracy: 0.8721\n",
      "Epoch 51/100\n",
      "32/32 [==============================] - 0s 8ms/step - loss: 0.3402 - accuracy: 0.8826 - val_loss: 0.3450 - val_accuracy: 0.8676\n",
      "Epoch 52/100\n",
      "32/32 [==============================] - 0s 8ms/step - loss: 0.3367 - accuracy: 0.8806 - val_loss: 0.3450 - val_accuracy: 0.8676\n",
      "Epoch 53/100\n",
      "32/32 [==============================] - 0s 8ms/step - loss: 0.3334 - accuracy: 0.8816 - val_loss: 0.3410 - val_accuracy: 0.8721\n",
      "Epoch 54/100\n",
      "32/32 [==============================] - 0s 8ms/step - loss: 0.3308 - accuracy: 0.8787 - val_loss: 0.3377 - val_accuracy: 0.8721\n",
      "Epoch 55/100\n",
      "32/32 [==============================] - 0s 7ms/step - loss: 0.3277 - accuracy: 0.8855 - val_loss: 0.3339 - val_accuracy: 0.8676\n",
      "Epoch 56/100\n",
      "32/32 [==============================] - 0s 8ms/step - loss: 0.3246 - accuracy: 0.8845 - val_loss: 0.3353 - val_accuracy: 0.8676\n",
      "Epoch 57/100\n",
      "32/32 [==============================] - 0s 7ms/step - loss: 0.3222 - accuracy: 0.8836 - val_loss: 0.3357 - val_accuracy: 0.8721\n",
      "Epoch 58/100\n",
      "32/32 [==============================] - 0s 7ms/step - loss: 0.3200 - accuracy: 0.8826 - val_loss: 0.3314 - val_accuracy: 0.8721\n",
      "Epoch 59/100\n",
      "32/32 [==============================] - 0s 8ms/step - loss: 0.3171 - accuracy: 0.8816 - val_loss: 0.3303 - val_accuracy: 0.8767\n",
      "Epoch 60/100\n",
      "32/32 [==============================] - 0s 7ms/step - loss: 0.3148 - accuracy: 0.8845 - val_loss: 0.3326 - val_accuracy: 0.8813\n",
      "Epoch 61/100\n",
      "32/32 [==============================] - 0s 7ms/step - loss: 0.3131 - accuracy: 0.8826 - val_loss: 0.3262 - val_accuracy: 0.8767\n",
      "Epoch 62/100\n",
      "32/32 [==============================] - 0s 7ms/step - loss: 0.3118 - accuracy: 0.8816 - val_loss: 0.3251 - val_accuracy: 0.8767\n",
      "Epoch 63/100\n",
      "32/32 [==============================] - 0s 7ms/step - loss: 0.3097 - accuracy: 0.8826 - val_loss: 0.3254 - val_accuracy: 0.8767\n",
      "Epoch 64/100\n",
      "32/32 [==============================] - 0s 7ms/step - loss: 0.3081 - accuracy: 0.8826 - val_loss: 0.3216 - val_accuracy: 0.8767\n",
      "Epoch 65/100\n",
      "32/32 [==============================] - 0s 7ms/step - loss: 0.3057 - accuracy: 0.8826 - val_loss: 0.3186 - val_accuracy: 0.8721\n",
      "Epoch 66/100\n",
      "32/32 [==============================] - 0s 7ms/step - loss: 0.3042 - accuracy: 0.8855 - val_loss: 0.3207 - val_accuracy: 0.8767\n",
      "Epoch 67/100\n",
      "32/32 [==============================] - 0s 7ms/step - loss: 0.3027 - accuracy: 0.8816 - val_loss: 0.3206 - val_accuracy: 0.8813\n",
      "Epoch 68/100\n",
      "32/32 [==============================] - 0s 7ms/step - loss: 0.3012 - accuracy: 0.8826 - val_loss: 0.3177 - val_accuracy: 0.8767\n",
      "Epoch 69/100\n",
      "32/32 [==============================] - 0s 7ms/step - loss: 0.2998 - accuracy: 0.8845 - val_loss: 0.3211 - val_accuracy: 0.8813\n",
      "Epoch 70/100\n",
      "32/32 [==============================] - 0s 7ms/step - loss: 0.2984 - accuracy: 0.8845 - val_loss: 0.3203 - val_accuracy: 0.8813\n",
      "Epoch 71/100\n",
      "32/32 [==============================] - 0s 7ms/step - loss: 0.2976 - accuracy: 0.8826 - val_loss: 0.3183 - val_accuracy: 0.8813\n",
      "Epoch 72/100\n",
      "32/32 [==============================] - 0s 7ms/step - loss: 0.2956 - accuracy: 0.8855 - val_loss: 0.3134 - val_accuracy: 0.8767\n",
      "Epoch 73/100\n",
      "32/32 [==============================] - 0s 7ms/step - loss: 0.2948 - accuracy: 0.8855 - val_loss: 0.3139 - val_accuracy: 0.8813\n",
      "Epoch 74/100\n",
      "32/32 [==============================] - 0s 7ms/step - loss: 0.2932 - accuracy: 0.8865 - val_loss: 0.3168 - val_accuracy: 0.8813\n",
      "Epoch 75/100\n",
      "32/32 [==============================] - 0s 7ms/step - loss: 0.2920 - accuracy: 0.8855 - val_loss: 0.3121 - val_accuracy: 0.8813\n",
      "Epoch 76/100\n",
      "32/32 [==============================] - 0s 7ms/step - loss: 0.2907 - accuracy: 0.8845 - val_loss: 0.3169 - val_accuracy: 0.8767\n",
      "Epoch 77/100\n",
      "32/32 [==============================] - 0s 8ms/step - loss: 0.2902 - accuracy: 0.8836 - val_loss: 0.3113 - val_accuracy: 0.8813\n",
      "Epoch 78/100\n",
      "32/32 [==============================] - 0s 8ms/step - loss: 0.2887 - accuracy: 0.8885 - val_loss: 0.3112 - val_accuracy: 0.8813\n",
      "Epoch 79/100\n",
      "32/32 [==============================] - 0s 7ms/step - loss: 0.2878 - accuracy: 0.8836 - val_loss: 0.3136 - val_accuracy: 0.8767\n",
      "Epoch 80/100\n",
      "32/32 [==============================] - 0s 7ms/step - loss: 0.2869 - accuracy: 0.8845 - val_loss: 0.3132 - val_accuracy: 0.8767\n",
      "Epoch 81/100\n",
      "32/32 [==============================] - 0s 7ms/step - loss: 0.2863 - accuracy: 0.8875 - val_loss: 0.3109 - val_accuracy: 0.8813\n",
      "Epoch 82/100\n",
      "32/32 [==============================] - 0s 7ms/step - loss: 0.2852 - accuracy: 0.8865 - val_loss: 0.3123 - val_accuracy: 0.8813\n",
      "Epoch 83/100\n",
      "32/32 [==============================] - 0s 7ms/step - loss: 0.2837 - accuracy: 0.8836 - val_loss: 0.3086 - val_accuracy: 0.8813\n",
      "Epoch 84/100\n",
      "32/32 [==============================] - 0s 7ms/step - loss: 0.2835 - accuracy: 0.8875 - val_loss: 0.3097 - val_accuracy: 0.8767\n",
      "Epoch 85/100\n",
      "32/32 [==============================] - 0s 7ms/step - loss: 0.2826 - accuracy: 0.8875 - val_loss: 0.3094 - val_accuracy: 0.8767\n",
      "Epoch 86/100\n",
      "32/32 [==============================] - 0s 7ms/step - loss: 0.2820 - accuracy: 0.8894 - val_loss: 0.3093 - val_accuracy: 0.8813\n",
      "Epoch 87/100\n",
      "32/32 [==============================] - 0s 7ms/step - loss: 0.2818 - accuracy: 0.8894 - val_loss: 0.3085 - val_accuracy: 0.8813\n",
      "Epoch 88/100\n",
      "32/32 [==============================] - 0s 8ms/step - loss: 0.2806 - accuracy: 0.8875 - val_loss: 0.3079 - val_accuracy: 0.8813\n",
      "Epoch 89/100\n",
      "32/32 [==============================] - 0s 7ms/step - loss: 0.2790 - accuracy: 0.8924 - val_loss: 0.3027 - val_accuracy: 0.8813\n",
      "Epoch 90/100\n",
      "32/32 [==============================] - 0s 7ms/step - loss: 0.2785 - accuracy: 0.8865 - val_loss: 0.3051 - val_accuracy: 0.8813\n",
      "Epoch 91/100\n",
      "32/32 [==============================] - 0s 7ms/step - loss: 0.2777 - accuracy: 0.8875 - val_loss: 0.3154 - val_accuracy: 0.8813\n",
      "Epoch 92/100\n",
      "32/32 [==============================] - 0s 7ms/step - loss: 0.2775 - accuracy: 0.8914 - val_loss: 0.3040 - val_accuracy: 0.8813\n",
      "Epoch 93/100\n",
      "32/32 [==============================] - 0s 7ms/step - loss: 0.2765 - accuracy: 0.8885 - val_loss: 0.3073 - val_accuracy: 0.8813\n",
      "Epoch 94/100\n",
      "32/32 [==============================] - 0s 7ms/step - loss: 0.2762 - accuracy: 0.8904 - val_loss: 0.3068 - val_accuracy: 0.8813\n",
      "Epoch 95/100\n",
      "32/32 [==============================] - 0s 7ms/step - loss: 0.2749 - accuracy: 0.8904 - val_loss: 0.3058 - val_accuracy: 0.8813\n",
      "Epoch 96/100\n",
      "32/32 [==============================] - 0s 7ms/step - loss: 0.2744 - accuracy: 0.8904 - val_loss: 0.3003 - val_accuracy: 0.8767\n",
      "Epoch 97/100\n",
      "32/32 [==============================] - 0s 7ms/step - loss: 0.2741 - accuracy: 0.8885 - val_loss: 0.3093 - val_accuracy: 0.8813\n",
      "Epoch 98/100\n",
      "32/32 [==============================] - 0s 7ms/step - loss: 0.2732 - accuracy: 0.8885 - val_loss: 0.3031 - val_accuracy: 0.8767\n",
      "Epoch 99/100\n",
      "32/32 [==============================] - 0s 7ms/step - loss: 0.2726 - accuracy: 0.8894 - val_loss: 0.3058 - val_accuracy: 0.8813\n",
      "Epoch 100/100\n",
      "32/32 [==============================] - 0s 7ms/step - loss: 0.2720 - accuracy: 0.8924 - val_loss: 0.2994 - val_accuracy: 0.8767\n"
     ]
    }
   ],
   "source": [
    "hist = model.fit(X_train, Y_train,\n",
    "          batch_size=32, epochs=100,\n",
    "          validation_data=(X_val, Y_val))"
   ]
  },
  {
   "cell_type": "markdown",
   "metadata": {},
   "source": [
    "Evaluating our data on the test set:"
   ]
  },
  {
   "cell_type": "code",
   "execution_count": 18,
   "metadata": {},
   "outputs": [
    {
     "name": "stdout",
     "output_type": "stream",
     "text": [
      "7/7 [==============================] - 0s 5ms/step - loss: 0.2557 - accuracy: 0.8995\n"
     ]
    },
    {
     "data": {
      "text/plain": "0.8995434045791626"
     },
     "execution_count": 18,
     "metadata": {},
     "output_type": "execute_result"
    }
   ],
   "source": [
    "model.evaluate(X_test, Y_test)[1]"
   ]
  },
  {
   "cell_type": "markdown",
   "metadata": {},
   "source": [
    "# Visualizing Loss and Accuracy"
   ]
  },
  {
   "cell_type": "markdown",
   "metadata": {},
   "source": [
    "Import the relevant package we need to do the visualization"
   ]
  },
  {
   "cell_type": "code",
   "execution_count": 19,
   "metadata": {},
   "outputs": [],
   "source": [
    "import matplotlib.pyplot as plt"
   ]
  },
  {
   "cell_type": "markdown",
   "metadata": {},
   "source": [
    "We want to visualize the training loss and the validation loss like this:"
   ]
  },
  {
   "cell_type": "code",
   "execution_count": 20,
   "metadata": {},
   "outputs": [
    {
     "data": {
      "text/plain": "<Figure size 640x480 with 1 Axes>",
      "image/png": "[encoded data removed]"
     },
     "metadata": {},
     "output_type": "display_data"
    }
   ],
   "source": [
    "plt.plot(hist.history['loss'])\n",
    "plt.plot(hist.history['val_loss'])\n",
    "plt.title('Model loss')\n",
    "plt.ylabel('Loss')\n",
    "plt.xlabel('Epoch')\n",
    "plt.legend(['Train', 'Val'], loc='upper right')\n",
    "plt.show()"
   ]
  },
  {
   "cell_type": "markdown",
   "metadata": {},
   "source": [
    "We can also visualize the training accuracy and the validation accuracy like this:"
   ]
  },
  {
   "cell_type": "code",
   "execution_count": 22,
   "metadata": {},
   "outputs": [
    {
     "ename": "KeyError",
     "evalue": "'acc'",
     "output_type": "error",
     "traceback": [
      "\u001B[0;31m---------------------------------------------------------------------------\u001B[0m",
      "\u001B[0;31mKeyError\u001B[0m                                  Traceback (most recent call last)",
      "Cell \u001B[0;32mIn [22], line 1\u001B[0m\n\u001B[0;32m----> 1\u001B[0m plt\u001B[38;5;241m.\u001B[39mplot(\u001B[43mhist\u001B[49m\u001B[38;5;241;43m.\u001B[39;49m\u001B[43mhistory\u001B[49m\u001B[43m[\u001B[49m\u001B[38;5;124;43m'\u001B[39;49m\u001B[38;5;124;43macc\u001B[39;49m\u001B[38;5;124;43m'\u001B[39;49m\u001B[43m]\u001B[49m)\n\u001B[1;32m      2\u001B[0m plt\u001B[38;5;241m.\u001B[39mplot(hist\u001B[38;5;241m.\u001B[39mhistory[\u001B[38;5;124m'\u001B[39m\u001B[38;5;124mval_acc\u001B[39m\u001B[38;5;124m'\u001B[39m])\n\u001B[1;32m      3\u001B[0m plt\u001B[38;5;241m.\u001B[39mtitle(\u001B[38;5;124m'\u001B[39m\u001B[38;5;124mModel accuracy\u001B[39m\u001B[38;5;124m'\u001B[39m)\n",
      "\u001B[0;31mKeyError\u001B[0m: 'acc'"
     ]
    }
   ],
   "source": [
    "plt.plot(hist.history['acc'])\n",
    "plt.plot(hist.history['val_acc'])\n",
    "plt.title('Model accuracy')\n",
    "plt.ylabel('Accuracy')\n",
    "plt.xlabel('Epoch')\n",
    "plt.legend(['Train', 'Val'], loc='lower right')\n",
    "plt.show()"
   ]
  },
  {
   "cell_type": "markdown",
   "metadata": {},
   "source": [
    "# Adding Regularization to our Neural Network"
   ]
  },
  {
   "cell_type": "markdown",
   "metadata": {},
   "source": [
    "We'll train a model which will overfit, which we call Model 2. This might take a few minutes."
   ]
  },
  {
   "cell_type": "code",
   "execution_count": 23,
   "metadata": {},
   "outputs": [
    {
     "name": "stdout",
     "output_type": "stream",
     "text": [
      "Epoch 1/100\n"
     ]
    },
    {
     "name": "stderr",
     "output_type": "stream",
     "text": [
      "2022-12-04 16:47:04.526927: I tensorflow/core/grappler/optimizers/custom_graph_optimizer_registry.cc:113] Plugin optimizer for device_type GPU is enabled.\n"
     ]
    },
    {
     "name": "stdout",
     "output_type": "stream",
     "text": [
      "32/32 [==============================] - 1s 19ms/step - loss: 0.4695 - accuracy: 0.7554 - val_loss: 0.3784 - val_accuracy: 0.8402\n",
      "Epoch 2/100\n",
      " 6/32 [====>.........................] - ETA: 0s - loss: 0.3771 - accuracy: 0.8698"
     ]
    },
    {
     "name": "stderr",
     "output_type": "stream",
     "text": [
      "2022-12-04 16:47:05.527454: I tensorflow/core/grappler/optimizers/custom_graph_optimizer_registry.cc:113] Plugin optimizer for device_type GPU is enabled.\n"
     ]
    },
    {
     "name": "stdout",
     "output_type": "stream",
     "text": [
      "32/32 [==============================] - 0s 11ms/step - loss: 0.3302 - accuracy: 0.8669 - val_loss: 0.3622 - val_accuracy: 0.8584\n",
      "Epoch 3/100\n",
      "32/32 [==============================] - 0s 11ms/step - loss: 0.3381 - accuracy: 0.8591 - val_loss: 0.3733 - val_accuracy: 0.8813\n",
      "Epoch 4/100\n",
      "32/32 [==============================] - 0s 12ms/step - loss: 0.2884 - accuracy: 0.8748 - val_loss: 0.2828 - val_accuracy: 0.8904\n",
      "Epoch 5/100\n",
      "32/32 [==============================] - 0s 11ms/step - loss: 0.2886 - accuracy: 0.8796 - val_loss: 0.2798 - val_accuracy: 0.8858\n",
      "Epoch 6/100\n",
      "32/32 [==============================] - 0s 12ms/step - loss: 0.2685 - accuracy: 0.8894 - val_loss: 0.3274 - val_accuracy: 0.8767\n",
      "Epoch 7/100\n",
      "32/32 [==============================] - 0s 12ms/step - loss: 0.2706 - accuracy: 0.8924 - val_loss: 0.4048 - val_accuracy: 0.8676\n",
      "Epoch 8/100\n",
      "32/32 [==============================] - 0s 12ms/step - loss: 0.2816 - accuracy: 0.8806 - val_loss: 0.3010 - val_accuracy: 0.8950\n",
      "Epoch 9/100\n",
      "32/32 [==============================] - 0s 11ms/step - loss: 0.2512 - accuracy: 0.9022 - val_loss: 0.2729 - val_accuracy: 0.8813\n",
      "Epoch 10/100\n",
      "32/32 [==============================] - 0s 11ms/step - loss: 0.2392 - accuracy: 0.9061 - val_loss: 0.2938 - val_accuracy: 0.8767\n",
      "Epoch 11/100\n",
      "32/32 [==============================] - 0s 11ms/step - loss: 0.2318 - accuracy: 0.9051 - val_loss: 0.2529 - val_accuracy: 0.8995\n",
      "Epoch 12/100\n",
      "32/32 [==============================] - 0s 11ms/step - loss: 0.2278 - accuracy: 0.9198 - val_loss: 0.3055 - val_accuracy: 0.8858\n",
      "Epoch 13/100\n",
      "32/32 [==============================] - 0s 11ms/step - loss: 0.2183 - accuracy: 0.9100 - val_loss: 0.2622 - val_accuracy: 0.8858\n",
      "Epoch 14/100\n",
      "32/32 [==============================] - 0s 11ms/step - loss: 0.2368 - accuracy: 0.8973 - val_loss: 0.3020 - val_accuracy: 0.8858\n",
      "Epoch 15/100\n",
      "32/32 [==============================] - 0s 11ms/step - loss: 0.2073 - accuracy: 0.9178 - val_loss: 0.3288 - val_accuracy: 0.8767\n",
      "Epoch 16/100\n",
      "32/32 [==============================] - 0s 11ms/step - loss: 0.2194 - accuracy: 0.8982 - val_loss: 0.2695 - val_accuracy: 0.8858\n",
      "Epoch 17/100\n",
      "32/32 [==============================] - 0s 12ms/step - loss: 0.2045 - accuracy: 0.9149 - val_loss: 0.3172 - val_accuracy: 0.8676\n",
      "Epoch 18/100\n",
      "32/32 [==============================] - 0s 11ms/step - loss: 0.2136 - accuracy: 0.9061 - val_loss: 0.2683 - val_accuracy: 0.8904\n",
      "Epoch 19/100\n",
      "32/32 [==============================] - 0s 12ms/step - loss: 0.1933 - accuracy: 0.9139 - val_loss: 0.2674 - val_accuracy: 0.8904\n",
      "Epoch 20/100\n",
      "32/32 [==============================] - 0s 11ms/step - loss: 0.2310 - accuracy: 0.8924 - val_loss: 0.3124 - val_accuracy: 0.8904\n",
      "Epoch 21/100\n",
      "32/32 [==============================] - 0s 11ms/step - loss: 0.2544 - accuracy: 0.8894 - val_loss: 0.2784 - val_accuracy: 0.8904\n",
      "Epoch 22/100\n",
      "32/32 [==============================] - 0s 11ms/step - loss: 0.2032 - accuracy: 0.9188 - val_loss: 0.3255 - val_accuracy: 0.8995\n",
      "Epoch 23/100\n",
      "32/32 [==============================] - 0s 12ms/step - loss: 0.2119 - accuracy: 0.9149 - val_loss: 0.2512 - val_accuracy: 0.8767\n",
      "Epoch 24/100\n",
      "32/32 [==============================] - 0s 12ms/step - loss: 0.1989 - accuracy: 0.9168 - val_loss: 0.2615 - val_accuracy: 0.8858\n",
      "Epoch 25/100\n",
      "32/32 [==============================] - 0s 12ms/step - loss: 0.1688 - accuracy: 0.9286 - val_loss: 0.3319 - val_accuracy: 0.8950\n",
      "Epoch 26/100\n",
      "32/32 [==============================] - 0s 11ms/step - loss: 0.1809 - accuracy: 0.9227 - val_loss: 0.3213 - val_accuracy: 0.8950\n",
      "Epoch 27/100\n",
      "32/32 [==============================] - 0s 11ms/step - loss: 0.1847 - accuracy: 0.9227 - val_loss: 0.2777 - val_accuracy: 0.8950\n",
      "Epoch 28/100\n",
      "32/32 [==============================] - 0s 12ms/step - loss: 0.1764 - accuracy: 0.9276 - val_loss: 0.3253 - val_accuracy: 0.8676\n",
      "Epoch 29/100\n",
      "32/32 [==============================] - 0s 12ms/step - loss: 0.1693 - accuracy: 0.9266 - val_loss: 0.3167 - val_accuracy: 0.8858\n",
      "Epoch 30/100\n",
      "32/32 [==============================] - 0s 11ms/step - loss: 0.1984 - accuracy: 0.9100 - val_loss: 0.4125 - val_accuracy: 0.8630\n",
      "Epoch 31/100\n",
      "32/32 [==============================] - 0s 11ms/step - loss: 0.1959 - accuracy: 0.9256 - val_loss: 0.3288 - val_accuracy: 0.8904\n",
      "Epoch 32/100\n",
      "32/32 [==============================] - 0s 11ms/step - loss: 0.1917 - accuracy: 0.9198 - val_loss: 0.3292 - val_accuracy: 0.8950\n",
      "Epoch 33/100\n",
      "32/32 [==============================] - 0s 12ms/step - loss: 0.1745 - accuracy: 0.9198 - val_loss: 0.4431 - val_accuracy: 0.8493\n",
      "Epoch 34/100\n",
      "32/32 [==============================] - 0s 11ms/step - loss: 0.1749 - accuracy: 0.9188 - val_loss: 0.3382 - val_accuracy: 0.8721\n",
      "Epoch 35/100\n",
      "32/32 [==============================] - 0s 12ms/step - loss: 0.1641 - accuracy: 0.9276 - val_loss: 0.4052 - val_accuracy: 0.8721\n",
      "Epoch 36/100\n",
      "32/32 [==============================] - 0s 11ms/step - loss: 0.1691 - accuracy: 0.9227 - val_loss: 0.3572 - val_accuracy: 0.8767\n",
      "Epoch 37/100\n",
      "32/32 [==============================] - 0s 11ms/step - loss: 0.1564 - accuracy: 0.9384 - val_loss: 0.3925 - val_accuracy: 0.8767\n",
      "Epoch 38/100\n",
      "32/32 [==============================] - 0s 11ms/step - loss: 0.1633 - accuracy: 0.9295 - val_loss: 0.3498 - val_accuracy: 0.8813\n",
      "Epoch 39/100\n",
      "32/32 [==============================] - 0s 11ms/step - loss: 0.1707 - accuracy: 0.9305 - val_loss: 0.3752 - val_accuracy: 0.8813\n",
      "Epoch 40/100\n",
      "32/32 [==============================] - 0s 11ms/step - loss: 0.1994 - accuracy: 0.9119 - val_loss: 0.3927 - val_accuracy: 0.8630\n",
      "Epoch 41/100\n",
      "32/32 [==============================] - 0s 11ms/step - loss: 0.1698 - accuracy: 0.9286 - val_loss: 0.4140 - val_accuracy: 0.8813\n",
      "Epoch 42/100\n",
      "32/32 [==============================] - 0s 11ms/step - loss: 0.1544 - accuracy: 0.9286 - val_loss: 0.4479 - val_accuracy: 0.8767\n",
      "Epoch 43/100\n",
      "32/32 [==============================] - 0s 11ms/step - loss: 0.1781 - accuracy: 0.9217 - val_loss: 0.3779 - val_accuracy: 0.8995\n",
      "Epoch 44/100\n",
      "32/32 [==============================] - 0s 11ms/step - loss: 0.1568 - accuracy: 0.9364 - val_loss: 0.4637 - val_accuracy: 0.8950\n",
      "Epoch 45/100\n",
      "32/32 [==============================] - 0s 11ms/step - loss: 0.1399 - accuracy: 0.9384 - val_loss: 0.6343 - val_accuracy: 0.8265\n",
      "Epoch 46/100\n",
      "32/32 [==============================] - 0s 11ms/step - loss: 0.1704 - accuracy: 0.9266 - val_loss: 0.6044 - val_accuracy: 0.8402\n",
      "Epoch 47/100\n",
      "32/32 [==============================] - 0s 11ms/step - loss: 0.2209 - accuracy: 0.9237 - val_loss: 0.5322 - val_accuracy: 0.8037\n",
      "Epoch 48/100\n",
      "32/32 [==============================] - 0s 11ms/step - loss: 0.1884 - accuracy: 0.9159 - val_loss: 0.2933 - val_accuracy: 0.9087\n",
      "Epoch 49/100\n",
      "32/32 [==============================] - 0s 11ms/step - loss: 0.1783 - accuracy: 0.9276 - val_loss: 0.3452 - val_accuracy: 0.8904\n",
      "Epoch 50/100\n",
      "32/32 [==============================] - 0s 11ms/step - loss: 0.1889 - accuracy: 0.9041 - val_loss: 0.3508 - val_accuracy: 0.8721\n",
      "Epoch 51/100\n",
      "32/32 [==============================] - 0s 11ms/step - loss: 0.1937 - accuracy: 0.9139 - val_loss: 0.2960 - val_accuracy: 0.8950\n",
      "Epoch 52/100\n",
      "32/32 [==============================] - 0s 11ms/step - loss: 0.1866 - accuracy: 0.9188 - val_loss: 0.3035 - val_accuracy: 0.8950\n",
      "Epoch 53/100\n",
      "32/32 [==============================] - 0s 11ms/step - loss: 0.1478 - accuracy: 0.9325 - val_loss: 0.3875 - val_accuracy: 0.8721\n",
      "Epoch 54/100\n",
      "32/32 [==============================] - 0s 11ms/step - loss: 0.1402 - accuracy: 0.9384 - val_loss: 0.4120 - val_accuracy: 0.8858\n",
      "Epoch 55/100\n",
      "32/32 [==============================] - 0s 11ms/step - loss: 0.1444 - accuracy: 0.9344 - val_loss: 0.3855 - val_accuracy: 0.8630\n",
      "Epoch 56/100\n",
      "32/32 [==============================] - 0s 11ms/step - loss: 0.1466 - accuracy: 0.9335 - val_loss: 0.4496 - val_accuracy: 0.8721\n",
      "Epoch 57/100\n",
      "32/32 [==============================] - 0s 11ms/step - loss: 0.1655 - accuracy: 0.9286 - val_loss: 0.3725 - val_accuracy: 0.8904\n",
      "Epoch 58/100\n",
      "32/32 [==============================] - 0s 11ms/step - loss: 0.1309 - accuracy: 0.9462 - val_loss: 0.4591 - val_accuracy: 0.8721\n",
      "Epoch 59/100\n",
      "32/32 [==============================] - 0s 11ms/step - loss: 0.1205 - accuracy: 0.9462 - val_loss: 0.4286 - val_accuracy: 0.8904\n",
      "Epoch 60/100\n",
      "32/32 [==============================] - 0s 11ms/step - loss: 0.1773 - accuracy: 0.9188 - val_loss: 0.3964 - val_accuracy: 0.8950\n",
      "Epoch 61/100\n",
      "32/32 [==============================] - 0s 11ms/step - loss: 0.1541 - accuracy: 0.9227 - val_loss: 0.4297 - val_accuracy: 0.8676\n",
      "Epoch 62/100\n",
      "32/32 [==============================] - 0s 11ms/step - loss: 0.1375 - accuracy: 0.9374 - val_loss: 0.4553 - val_accuracy: 0.8721\n",
      "Epoch 63/100\n",
      "32/32 [==============================] - 0s 11ms/step - loss: 0.1261 - accuracy: 0.9423 - val_loss: 0.5377 - val_accuracy: 0.8858\n",
      "Epoch 64/100\n",
      "32/32 [==============================] - 0s 11ms/step - loss: 0.1260 - accuracy: 0.9472 - val_loss: 0.5063 - val_accuracy: 0.8904\n",
      "Epoch 65/100\n",
      "32/32 [==============================] - 0s 11ms/step - loss: 0.1357 - accuracy: 0.9344 - val_loss: 0.5724 - val_accuracy: 0.8721\n",
      "Epoch 66/100\n",
      "32/32 [==============================] - 0s 11ms/step - loss: 0.1416 - accuracy: 0.9335 - val_loss: 0.6312 - val_accuracy: 0.8447\n",
      "Epoch 67/100\n",
      "32/32 [==============================] - 0s 11ms/step - loss: 0.1485 - accuracy: 0.9364 - val_loss: 0.6657 - val_accuracy: 0.8539\n",
      "Epoch 68/100\n",
      "32/32 [==============================] - 0s 11ms/step - loss: 0.1440 - accuracy: 0.9432 - val_loss: 0.6053 - val_accuracy: 0.8630\n",
      "Epoch 69/100\n",
      "32/32 [==============================] - 0s 11ms/step - loss: 0.1251 - accuracy: 0.9432 - val_loss: 0.5239 - val_accuracy: 0.8813\n",
      "Epoch 70/100\n",
      "32/32 [==============================] - 0s 11ms/step - loss: 0.1157 - accuracy: 0.9491 - val_loss: 0.5232 - val_accuracy: 0.8858\n",
      "Epoch 71/100\n",
      "32/32 [==============================] - 0s 11ms/step - loss: 0.1518 - accuracy: 0.9423 - val_loss: 0.3704 - val_accuracy: 0.8721\n",
      "Epoch 72/100\n",
      "32/32 [==============================] - 0s 11ms/step - loss: 0.1859 - accuracy: 0.9325 - val_loss: 0.3856 - val_accuracy: 0.8767\n",
      "Epoch 73/100\n",
      "32/32 [==============================] - 0s 11ms/step - loss: 0.1355 - accuracy: 0.9491 - val_loss: 0.5624 - val_accuracy: 0.8767\n",
      "Epoch 74/100\n",
      "32/32 [==============================] - 0s 11ms/step - loss: 0.1156 - accuracy: 0.9472 - val_loss: 0.5230 - val_accuracy: 0.8813\n",
      "Epoch 75/100\n",
      "32/32 [==============================] - 0s 11ms/step - loss: 0.1511 - accuracy: 0.9374 - val_loss: 0.5673 - val_accuracy: 0.8356\n",
      "Epoch 76/100\n",
      "32/32 [==============================] - 0s 11ms/step - loss: 0.1495 - accuracy: 0.9354 - val_loss: 0.4656 - val_accuracy: 0.8813\n",
      "Epoch 77/100\n",
      "32/32 [==============================] - 0s 11ms/step - loss: 0.1213 - accuracy: 0.9442 - val_loss: 0.5338 - val_accuracy: 0.8767\n",
      "Epoch 78/100\n",
      "32/32 [==============================] - 0s 11ms/step - loss: 0.1006 - accuracy: 0.9599 - val_loss: 0.6235 - val_accuracy: 0.8767\n",
      "Epoch 79/100\n",
      "32/32 [==============================] - 0s 11ms/step - loss: 0.1209 - accuracy: 0.9501 - val_loss: 0.7708 - val_accuracy: 0.8584\n",
      "Epoch 80/100\n",
      "32/32 [==============================] - 0s 11ms/step - loss: 0.1215 - accuracy: 0.9491 - val_loss: 0.5577 - val_accuracy: 0.8767\n",
      "Epoch 81/100\n",
      "32/32 [==============================] - 0s 11ms/step - loss: 0.1497 - accuracy: 0.9325 - val_loss: 0.4479 - val_accuracy: 0.8630\n",
      "Epoch 82/100\n",
      "32/32 [==============================] - 0s 11ms/step - loss: 0.1316 - accuracy: 0.9374 - val_loss: 0.5689 - val_accuracy: 0.8721\n",
      "Epoch 83/100\n",
      "32/32 [==============================] - 0s 11ms/step - loss: 0.1525 - accuracy: 0.9432 - val_loss: 0.5047 - val_accuracy: 0.8858\n",
      "Epoch 84/100\n",
      "32/32 [==============================] - 0s 11ms/step - loss: 0.1455 - accuracy: 0.9393 - val_loss: 0.4467 - val_accuracy: 0.8813\n",
      "Epoch 85/100\n",
      "32/32 [==============================] - 0s 11ms/step - loss: 0.1367 - accuracy: 0.9384 - val_loss: 0.5141 - val_accuracy: 0.8630\n",
      "Epoch 86/100\n",
      "32/32 [==============================] - 0s 11ms/step - loss: 0.1480 - accuracy: 0.9374 - val_loss: 0.3991 - val_accuracy: 0.8767\n",
      "Epoch 87/100\n",
      "32/32 [==============================] - 0s 11ms/step - loss: 0.1095 - accuracy: 0.9550 - val_loss: 0.5285 - val_accuracy: 0.8813\n",
      "Epoch 88/100\n",
      "32/32 [==============================] - 0s 11ms/step - loss: 0.0934 - accuracy: 0.9618 - val_loss: 0.6566 - val_accuracy: 0.8813\n",
      "Epoch 89/100\n",
      "32/32 [==============================] - 0s 11ms/step - loss: 0.0958 - accuracy: 0.9579 - val_loss: 0.6163 - val_accuracy: 0.8493\n",
      "Epoch 90/100\n",
      "32/32 [==============================] - 0s 11ms/step - loss: 0.0922 - accuracy: 0.9609 - val_loss: 0.6402 - val_accuracy: 0.8767\n",
      "Epoch 91/100\n",
      "32/32 [==============================] - 0s 11ms/step - loss: 0.1063 - accuracy: 0.9511 - val_loss: 0.6393 - val_accuracy: 0.8904\n",
      "Epoch 92/100\n",
      "32/32 [==============================] - 0s 11ms/step - loss: 0.1276 - accuracy: 0.9472 - val_loss: 0.6189 - val_accuracy: 0.8539\n",
      "Epoch 93/100\n",
      "32/32 [==============================] - 0s 11ms/step - loss: 0.1197 - accuracy: 0.9432 - val_loss: 0.5411 - val_accuracy: 0.8813\n",
      "Epoch 94/100\n",
      "32/32 [==============================] - 0s 11ms/step - loss: 0.1005 - accuracy: 0.9599 - val_loss: 0.5814 - val_accuracy: 0.9041\n",
      "Epoch 95/100\n",
      "32/32 [==============================] - 0s 11ms/step - loss: 0.1130 - accuracy: 0.9560 - val_loss: 0.5971 - val_accuracy: 0.8767\n",
      "Epoch 96/100\n",
      "32/32 [==============================] - 0s 11ms/step - loss: 0.0928 - accuracy: 0.9599 - val_loss: 0.7020 - val_accuracy: 0.8721\n",
      "Epoch 97/100\n",
      "32/32 [==============================] - 0s 11ms/step - loss: 0.0833 - accuracy: 0.9618 - val_loss: 0.6932 - val_accuracy: 0.8813\n",
      "Epoch 98/100\n",
      "32/32 [==============================] - 0s 11ms/step - loss: 0.0807 - accuracy: 0.9638 - val_loss: 0.7832 - val_accuracy: 0.8584\n",
      "Epoch 99/100\n",
      "32/32 [==============================] - 0s 11ms/step - loss: 0.1225 - accuracy: 0.9511 - val_loss: 0.5637 - val_accuracy: 0.8904\n",
      "Epoch 100/100\n",
      "32/32 [==============================] - 0s 11ms/step - loss: 0.1031 - accuracy: 0.9579 - val_loss: 0.6506 - val_accuracy: 0.8676\n"
     ]
    }
   ],
   "source": [
    "model_2 = Sequential([\n",
    "    Dense(1000, activation='relu', input_shape=(10,)),\n",
    "    Dense(1000, activation='relu'),\n",
    "    Dense(1000, activation='relu'),\n",
    "    Dense(1000, activation='relu'),\n",
    "    Dense(1, activation='sigmoid'),\n",
    "])\n",
    "model_2.compile(optimizer='adam',\n",
    "              loss='binary_crossentropy',\n",
    "              metrics=['accuracy'])\n",
    "hist_2 = model_2.fit(X_train, Y_train,\n",
    "          batch_size=32, epochs=100,\n",
    "          validation_data=(X_val, Y_val))"
   ]
  },
  {
   "cell_type": "markdown",
   "metadata": {},
   "source": [
    "Let's do the same visualization to see what overfitting looks like in terms of the loss and accuracy."
   ]
  },
  {
   "cell_type": "code",
   "execution_count": 24,
   "metadata": {},
   "outputs": [
    {
     "data": {
      "text/plain": "<Figure size 640x480 with 1 Axes>",
      "image/png": "[encoded data removed]"
     },
     "metadata": {},
     "output_type": "display_data"
    }
   ],
   "source": [
    "plt.plot(hist_2.history['loss'])\n",
    "plt.plot(hist_2.history['val_loss'])\n",
    "plt.title('Model loss')\n",
    "plt.ylabel('Loss')\n",
    "plt.xlabel('Epoch')\n",
    "plt.legend(['Train', 'Val'], loc='upper right')\n",
    "plt.show()"
   ]
  },
  {
   "cell_type": "code",
   "execution_count": 25,
   "metadata": {},
   "outputs": [
    {
     "ename": "KeyError",
     "evalue": "'acc'",
     "output_type": "error",
     "traceback": [
      "\u001B[0;31m---------------------------------------------------------------------------\u001B[0m",
      "\u001B[0;31mKeyError\u001B[0m                                  Traceback (most recent call last)",
      "Cell \u001B[0;32mIn [25], line 1\u001B[0m\n\u001B[0;32m----> 1\u001B[0m plt\u001B[38;5;241m.\u001B[39mplot(\u001B[43mhist_2\u001B[49m\u001B[38;5;241;43m.\u001B[39;49m\u001B[43mhistory\u001B[49m\u001B[43m[\u001B[49m\u001B[38;5;124;43m'\u001B[39;49m\u001B[38;5;124;43macc\u001B[39;49m\u001B[38;5;124;43m'\u001B[39;49m\u001B[43m]\u001B[49m)\n\u001B[1;32m      2\u001B[0m plt\u001B[38;5;241m.\u001B[39mplot(hist_2\u001B[38;5;241m.\u001B[39mhistory[\u001B[38;5;124m'\u001B[39m\u001B[38;5;124mval_acc\u001B[39m\u001B[38;5;124m'\u001B[39m])\n\u001B[1;32m      3\u001B[0m plt\u001B[38;5;241m.\u001B[39mtitle(\u001B[38;5;124m'\u001B[39m\u001B[38;5;124mModel accuracy\u001B[39m\u001B[38;5;124m'\u001B[39m)\n",
      "\u001B[0;31mKeyError\u001B[0m: 'acc'"
     ]
    }
   ],
   "source": [
    "plt.plot(hist_2.history['acc'])\n",
    "plt.plot(hist_2.history['val_acc'])\n",
    "plt.title('Model accuracy')\n",
    "plt.ylabel('Accuracy')\n",
    "plt.xlabel('Epoch')\n",
    "plt.legend(['Train', 'Val'], loc='lower right')\n",
    "plt.show()"
   ]
  },
  {
   "cell_type": "markdown",
   "metadata": {},
   "source": [
    "To address the overfitting we see in Model 2, we'll incorporate L2 regularization and dropout in our third model here (Model 3)."
   ]
  },
  {
   "cell_type": "code",
   "execution_count": 26,
   "metadata": {},
   "outputs": [],
   "source": [
    "from keras.layers import Dropout\n",
    "from keras import regularizers"
   ]
  },
  {
   "cell_type": "code",
   "execution_count": 27,
   "metadata": {},
   "outputs": [],
   "source": [
    "model_3 = Sequential([\n",
    "    Dense(1000, activation='relu', kernel_regularizer=regularizers.l2(0.01), input_shape=(10,)),\n",
    "    Dropout(0.3),\n",
    "    Dense(1000, activation='relu', kernel_regularizer=regularizers.l2(0.01)),\n",
    "    Dropout(0.3),\n",
    "    Dense(1000, activation='relu', kernel_regularizer=regularizers.l2(0.01)),\n",
    "    Dropout(0.3),\n",
    "    Dense(1000, activation='relu', kernel_regularizer=regularizers.l2(0.01)),\n",
    "    Dropout(0.3),\n",
    "    Dense(1, activation='sigmoid', kernel_regularizer=regularizers.l2(0.01)),\n",
    "])"
   ]
  },
  {
   "cell_type": "code",
   "execution_count": 28,
   "metadata": {},
   "outputs": [
    {
     "name": "stdout",
     "output_type": "stream",
     "text": [
      "Epoch 1/100\n"
     ]
    },
    {
     "name": "stderr",
     "output_type": "stream",
     "text": [
      "2022-12-04 16:47:53.228956: I tensorflow/core/grappler/optimizers/custom_graph_optimizer_registry.cc:113] Plugin optimizer for device_type GPU is enabled.\n"
     ]
    },
    {
     "name": "stdout",
     "output_type": "stream",
     "text": [
      "32/32 [==============================] - 2s 27ms/step - loss: 14.2393 - accuracy: 0.6663 - val_loss: 3.9399 - val_accuracy: 0.7489\n",
      "Epoch 2/100\n"
     ]
    },
    {
     "name": "stderr",
     "output_type": "stream",
     "text": [
      "2022-12-04 16:47:54.604862: I tensorflow/core/grappler/optimizers/custom_graph_optimizer_registry.cc:113] Plugin optimizer for device_type GPU is enabled.\n"
     ]
    },
    {
     "name": "stdout",
     "output_type": "stream",
     "text": [
      "32/32 [==============================] - 0s 15ms/step - loss: 1.6962 - accuracy: 0.8102 - val_loss: 0.8087 - val_accuracy: 0.7443\n",
      "Epoch 3/100\n",
      "32/32 [==============================] - 0s 14ms/step - loss: 0.5757 - accuracy: 0.8513 - val_loss: 0.5275 - val_accuracy: 0.8721\n",
      "Epoch 4/100\n",
      "32/32 [==============================] - 0s 15ms/step - loss: 0.5103 - accuracy: 0.8689 - val_loss: 0.5048 - val_accuracy: 0.8813\n",
      "Epoch 5/100\n",
      "32/32 [==============================] - 0s 14ms/step - loss: 0.4824 - accuracy: 0.8777 - val_loss: 0.4894 - val_accuracy: 0.8721\n",
      "Epoch 6/100\n",
      "32/32 [==============================] - 0s 14ms/step - loss: 0.4676 - accuracy: 0.8689 - val_loss: 0.5008 - val_accuracy: 0.8721\n",
      "Epoch 7/100\n",
      "32/32 [==============================] - 0s 14ms/step - loss: 0.4762 - accuracy: 0.8659 - val_loss: 0.6039 - val_accuracy: 0.7900\n",
      "Epoch 8/100\n",
      "32/32 [==============================] - 0s 14ms/step - loss: 0.4425 - accuracy: 0.8787 - val_loss: 0.5392 - val_accuracy: 0.8265\n",
      "Epoch 9/100\n",
      "32/32 [==============================] - 0s 14ms/step - loss: 0.4455 - accuracy: 0.8777 - val_loss: 0.5916 - val_accuracy: 0.7900\n",
      "Epoch 10/100\n",
      "32/32 [==============================] - 0s 14ms/step - loss: 0.4331 - accuracy: 0.8796 - val_loss: 0.5474 - val_accuracy: 0.8128\n",
      "Epoch 11/100\n",
      "32/32 [==============================] - 0s 14ms/step - loss: 0.4254 - accuracy: 0.8953 - val_loss: 0.4868 - val_accuracy: 0.8539\n",
      "Epoch 12/100\n",
      "32/32 [==============================] - 0s 14ms/step - loss: 0.4279 - accuracy: 0.8787 - val_loss: 0.5140 - val_accuracy: 0.8402\n",
      "Epoch 13/100\n",
      "32/32 [==============================] - 0s 14ms/step - loss: 0.4293 - accuracy: 0.8787 - val_loss: 0.6238 - val_accuracy: 0.7397\n",
      "Epoch 14/100\n",
      "32/32 [==============================] - 0s 14ms/step - loss: 0.4233 - accuracy: 0.8875 - val_loss: 0.5029 - val_accuracy: 0.8356\n",
      "Epoch 15/100\n",
      "32/32 [==============================] - 0s 14ms/step - loss: 0.4144 - accuracy: 0.8806 - val_loss: 0.5728 - val_accuracy: 0.7854\n",
      "Epoch 16/100\n",
      "32/32 [==============================] - 0s 14ms/step - loss: 0.4236 - accuracy: 0.8865 - val_loss: 0.6952 - val_accuracy: 0.6712\n",
      "Epoch 17/100\n",
      "32/32 [==============================] - 0s 14ms/step - loss: 0.4078 - accuracy: 0.8933 - val_loss: 0.5716 - val_accuracy: 0.7900\n",
      "Epoch 18/100\n",
      "32/32 [==============================] - 0s 14ms/step - loss: 0.4069 - accuracy: 0.8963 - val_loss: 0.6234 - val_accuracy: 0.7306\n",
      "Epoch 19/100\n",
      "32/32 [==============================] - 0s 14ms/step - loss: 0.4154 - accuracy: 0.8875 - val_loss: 0.4703 - val_accuracy: 0.8630\n",
      "Epoch 20/100\n",
      "32/32 [==============================] - 0s 14ms/step - loss: 0.4198 - accuracy: 0.8659 - val_loss: 0.6549 - val_accuracy: 0.7169\n",
      "Epoch 21/100\n",
      "32/32 [==============================] - 0s 14ms/step - loss: 0.4117 - accuracy: 0.8904 - val_loss: 0.6782 - val_accuracy: 0.6758\n",
      "Epoch 22/100\n",
      "32/32 [==============================] - 0s 14ms/step - loss: 0.3940 - accuracy: 0.8963 - val_loss: 0.7787 - val_accuracy: 0.6256\n",
      "Epoch 23/100\n",
      "32/32 [==============================] - 0s 15ms/step - loss: 0.4121 - accuracy: 0.8904 - val_loss: 0.5600 - val_accuracy: 0.8037\n",
      "Epoch 24/100\n",
      "32/32 [==============================] - 0s 14ms/step - loss: 0.4040 - accuracy: 0.8914 - val_loss: 0.5601 - val_accuracy: 0.7991\n",
      "Epoch 25/100\n",
      "32/32 [==============================] - 0s 14ms/step - loss: 0.3931 - accuracy: 0.8943 - val_loss: 0.5555 - val_accuracy: 0.8082\n",
      "Epoch 26/100\n",
      "32/32 [==============================] - 0s 14ms/step - loss: 0.3976 - accuracy: 0.8894 - val_loss: 0.5992 - val_accuracy: 0.7489\n",
      "Epoch 27/100\n",
      "32/32 [==============================] - 0s 14ms/step - loss: 0.3936 - accuracy: 0.8943 - val_loss: 0.5554 - val_accuracy: 0.7991\n",
      "Epoch 28/100\n",
      "32/32 [==============================] - 0s 14ms/step - loss: 0.3997 - accuracy: 0.8865 - val_loss: 0.5322 - val_accuracy: 0.8082\n",
      "Epoch 29/100\n",
      "32/32 [==============================] - 0s 14ms/step - loss: 0.3932 - accuracy: 0.8982 - val_loss: 0.5476 - val_accuracy: 0.8082\n",
      "Epoch 30/100\n",
      "32/32 [==============================] - 0s 14ms/step - loss: 0.4112 - accuracy: 0.8826 - val_loss: 0.7160 - val_accuracy: 0.6575\n",
      "Epoch 31/100\n",
      "32/32 [==============================] - 0s 14ms/step - loss: 0.3958 - accuracy: 0.8894 - val_loss: 0.5627 - val_accuracy: 0.7763\n",
      "Epoch 32/100\n",
      "32/32 [==============================] - 0s 14ms/step - loss: 0.3919 - accuracy: 0.8924 - val_loss: 0.5180 - val_accuracy: 0.8174\n",
      "Epoch 33/100\n",
      "32/32 [==============================] - 0s 14ms/step - loss: 0.3957 - accuracy: 0.8924 - val_loss: 0.5679 - val_accuracy: 0.7763\n",
      "Epoch 34/100\n",
      "32/32 [==============================] - 0s 14ms/step - loss: 0.4008 - accuracy: 0.8875 - val_loss: 0.6722 - val_accuracy: 0.6758\n",
      "Epoch 35/100\n",
      "32/32 [==============================] - 0s 14ms/step - loss: 0.3870 - accuracy: 0.8914 - val_loss: 0.6312 - val_accuracy: 0.7078\n",
      "Epoch 36/100\n",
      "32/32 [==============================] - 0s 14ms/step - loss: 0.3894 - accuracy: 0.8914 - val_loss: 0.7130 - val_accuracy: 0.6621\n",
      "Epoch 37/100\n",
      "32/32 [==============================] - 0s 14ms/step - loss: 0.4001 - accuracy: 0.8885 - val_loss: 0.5383 - val_accuracy: 0.8174\n",
      "Epoch 38/100\n",
      "32/32 [==============================] - 0s 14ms/step - loss: 0.3946 - accuracy: 0.8826 - val_loss: 0.6578 - val_accuracy: 0.6941\n",
      "Epoch 39/100\n",
      "32/32 [==============================] - 0s 14ms/step - loss: 0.3935 - accuracy: 0.8875 - val_loss: 0.5270 - val_accuracy: 0.8174\n",
      "Epoch 40/100\n",
      "32/32 [==============================] - 0s 14ms/step - loss: 0.3900 - accuracy: 0.8963 - val_loss: 0.6608 - val_accuracy: 0.6895\n",
      "Epoch 41/100\n",
      "32/32 [==============================] - 0s 14ms/step - loss: 0.4092 - accuracy: 0.8816 - val_loss: 0.5412 - val_accuracy: 0.8128\n",
      "Epoch 42/100\n",
      "32/32 [==============================] - 0s 14ms/step - loss: 0.4002 - accuracy: 0.8826 - val_loss: 0.6526 - val_accuracy: 0.6986\n",
      "Epoch 43/100\n",
      "32/32 [==============================] - 0s 14ms/step - loss: 0.3981 - accuracy: 0.8885 - val_loss: 0.6319 - val_accuracy: 0.7123\n",
      "Epoch 44/100\n",
      "32/32 [==============================] - 0s 14ms/step - loss: 0.3853 - accuracy: 0.8982 - val_loss: 0.5866 - val_accuracy: 0.7534\n",
      "Epoch 45/100\n",
      "32/32 [==============================] - 0s 14ms/step - loss: 0.3889 - accuracy: 0.8894 - val_loss: 0.6215 - val_accuracy: 0.7078\n",
      "Epoch 46/100\n",
      "32/32 [==============================] - 0s 14ms/step - loss: 0.3800 - accuracy: 0.8973 - val_loss: 0.7828 - val_accuracy: 0.6119\n",
      "Epoch 47/100\n",
      "32/32 [==============================] - 0s 14ms/step - loss: 0.3927 - accuracy: 0.8836 - val_loss: 0.5410 - val_accuracy: 0.8082\n",
      "Epoch 48/100\n",
      "32/32 [==============================] - 0s 14ms/step - loss: 0.4027 - accuracy: 0.8787 - val_loss: 0.6053 - val_accuracy: 0.7260\n",
      "Epoch 49/100\n",
      "32/32 [==============================] - 0s 14ms/step - loss: 0.3827 - accuracy: 0.8963 - val_loss: 0.5611 - val_accuracy: 0.7808\n",
      "Epoch 50/100\n",
      "32/32 [==============================] - 0s 14ms/step - loss: 0.3885 - accuracy: 0.8894 - val_loss: 0.6068 - val_accuracy: 0.7397\n",
      "Epoch 51/100\n",
      "32/32 [==============================] - 0s 14ms/step - loss: 0.3814 - accuracy: 0.8904 - val_loss: 0.6929 - val_accuracy: 0.6621\n",
      "Epoch 52/100\n",
      "32/32 [==============================] - 0s 14ms/step - loss: 0.3888 - accuracy: 0.9002 - val_loss: 0.6307 - val_accuracy: 0.7032\n",
      "Epoch 53/100\n",
      "32/32 [==============================] - 0s 14ms/step - loss: 0.3789 - accuracy: 0.8953 - val_loss: 0.6177 - val_accuracy: 0.7123\n",
      "Epoch 54/100\n",
      "32/32 [==============================] - 0s 14ms/step - loss: 0.3789 - accuracy: 0.8914 - val_loss: 0.6081 - val_accuracy: 0.7260\n",
      "Epoch 55/100\n",
      "32/32 [==============================] - 0s 14ms/step - loss: 0.3807 - accuracy: 0.8924 - val_loss: 0.6140 - val_accuracy: 0.7078\n",
      "Epoch 56/100\n",
      "32/32 [==============================] - 0s 15ms/step - loss: 0.3861 - accuracy: 0.8982 - val_loss: 0.6906 - val_accuracy: 0.6621\n",
      "Epoch 57/100\n",
      "32/32 [==============================] - 0s 14ms/step - loss: 0.3785 - accuracy: 0.8933 - val_loss: 0.7499 - val_accuracy: 0.6393\n",
      "Epoch 58/100\n",
      "32/32 [==============================] - 0s 14ms/step - loss: 0.3809 - accuracy: 0.8943 - val_loss: 0.7020 - val_accuracy: 0.6575\n",
      "Epoch 59/100\n",
      "32/32 [==============================] - 0s 14ms/step - loss: 0.3855 - accuracy: 0.8933 - val_loss: 0.7067 - val_accuracy: 0.6530\n",
      "Epoch 60/100\n",
      "32/32 [==============================] - 0s 14ms/step - loss: 0.3862 - accuracy: 0.8904 - val_loss: 0.6165 - val_accuracy: 0.7169\n",
      "Epoch 61/100\n",
      "32/32 [==============================] - 0s 14ms/step - loss: 0.3957 - accuracy: 0.8953 - val_loss: 0.7877 - val_accuracy: 0.6164\n",
      "Epoch 62/100\n",
      "32/32 [==============================] - 0s 14ms/step - loss: 0.3868 - accuracy: 0.8904 - val_loss: 0.6033 - val_accuracy: 0.7215\n",
      "Epoch 63/100\n",
      "32/32 [==============================] - 0s 14ms/step - loss: 0.3857 - accuracy: 0.8836 - val_loss: 0.9120 - val_accuracy: 0.5525\n",
      "Epoch 64/100\n",
      "32/32 [==============================] - 0s 14ms/step - loss: 0.3887 - accuracy: 0.8953 - val_loss: 0.6630 - val_accuracy: 0.6804\n",
      "Epoch 65/100\n",
      "32/32 [==============================] - 0s 14ms/step - loss: 0.3753 - accuracy: 0.8933 - val_loss: 0.6335 - val_accuracy: 0.7123\n",
      "Epoch 66/100\n",
      "32/32 [==============================] - 0s 14ms/step - loss: 0.3855 - accuracy: 0.8924 - val_loss: 0.7054 - val_accuracy: 0.6530\n",
      "Epoch 67/100\n",
      "32/32 [==============================] - 0s 14ms/step - loss: 0.3824 - accuracy: 0.8982 - val_loss: 0.7730 - val_accuracy: 0.6119\n",
      "Epoch 68/100\n",
      "32/32 [==============================] - 0s 14ms/step - loss: 0.3794 - accuracy: 0.8924 - val_loss: 0.5620 - val_accuracy: 0.7808\n",
      "Epoch 69/100\n",
      "32/32 [==============================] - 0s 14ms/step - loss: 0.3837 - accuracy: 0.8943 - val_loss: 0.7229 - val_accuracy: 0.6256\n",
      "Epoch 70/100\n",
      "32/32 [==============================] - 0s 14ms/step - loss: 0.3824 - accuracy: 0.8914 - val_loss: 0.8032 - val_accuracy: 0.6073\n",
      "Epoch 71/100\n",
      "32/32 [==============================] - 0s 14ms/step - loss: 0.3786 - accuracy: 0.8953 - val_loss: 0.5645 - val_accuracy: 0.7763\n",
      "Epoch 72/100\n",
      "32/32 [==============================] - 0s 14ms/step - loss: 0.3866 - accuracy: 0.8894 - val_loss: 0.5403 - val_accuracy: 0.7991\n",
      "Epoch 73/100\n",
      "32/32 [==============================] - 0s 14ms/step - loss: 0.3786 - accuracy: 0.8953 - val_loss: 0.7003 - val_accuracy: 0.6530\n",
      "Epoch 74/100\n",
      "32/32 [==============================] - 0s 14ms/step - loss: 0.3755 - accuracy: 0.8963 - val_loss: 0.6427 - val_accuracy: 0.6941\n",
      "Epoch 75/100\n",
      "32/32 [==============================] - 0s 14ms/step - loss: 0.3919 - accuracy: 0.8904 - val_loss: 0.6020 - val_accuracy: 0.7169\n",
      "Epoch 76/100\n",
      "32/32 [==============================] - 0s 14ms/step - loss: 0.3750 - accuracy: 0.9012 - val_loss: 0.7106 - val_accuracy: 0.6575\n",
      "Epoch 77/100\n",
      "32/32 [==============================] - 0s 14ms/step - loss: 0.3901 - accuracy: 0.8826 - val_loss: 0.5857 - val_accuracy: 0.7580\n",
      "Epoch 78/100\n",
      "32/32 [==============================] - 0s 14ms/step - loss: 0.3796 - accuracy: 0.8992 - val_loss: 0.6601 - val_accuracy: 0.6712\n",
      "Epoch 79/100\n",
      "32/32 [==============================] - 0s 14ms/step - loss: 0.3780 - accuracy: 0.8914 - val_loss: 0.6056 - val_accuracy: 0.7260\n",
      "Epoch 80/100\n",
      "32/32 [==============================] - 0s 14ms/step - loss: 0.3775 - accuracy: 0.8992 - val_loss: 0.7815 - val_accuracy: 0.6027\n",
      "Epoch 81/100\n",
      "32/32 [==============================] - 0s 14ms/step - loss: 0.3836 - accuracy: 0.8924 - val_loss: 0.7448 - val_accuracy: 0.6164\n",
      "Epoch 82/100\n",
      "32/32 [==============================] - 0s 14ms/step - loss: 0.3747 - accuracy: 0.8924 - val_loss: 0.6590 - val_accuracy: 0.6895\n",
      "Epoch 83/100\n",
      "32/32 [==============================] - 0s 14ms/step - loss: 0.3763 - accuracy: 0.8963 - val_loss: 0.7164 - val_accuracy: 0.6393\n",
      "Epoch 84/100\n",
      "32/32 [==============================] - 0s 14ms/step - loss: 0.3812 - accuracy: 0.8894 - val_loss: 0.6834 - val_accuracy: 0.6621\n",
      "Epoch 85/100\n",
      "32/32 [==============================] - 0s 14ms/step - loss: 0.3778 - accuracy: 0.8963 - val_loss: 0.7291 - val_accuracy: 0.6210\n",
      "Epoch 86/100\n",
      "32/32 [==============================] - 0s 14ms/step - loss: 0.3843 - accuracy: 0.8933 - val_loss: 0.7944 - val_accuracy: 0.6073\n",
      "Epoch 87/100\n",
      "32/32 [==============================] - 0s 14ms/step - loss: 0.3788 - accuracy: 0.8885 - val_loss: 0.5993 - val_accuracy: 0.7260\n",
      "Epoch 88/100\n",
      "32/32 [==============================] - 0s 14ms/step - loss: 0.3839 - accuracy: 0.8904 - val_loss: 0.7041 - val_accuracy: 0.6575\n",
      "Epoch 89/100\n",
      "32/32 [==============================] - 0s 14ms/step - loss: 0.3832 - accuracy: 0.8914 - val_loss: 0.6470 - val_accuracy: 0.6849\n",
      "Epoch 90/100\n",
      "32/32 [==============================] - 0s 14ms/step - loss: 0.3763 - accuracy: 0.8963 - val_loss: 0.6246 - val_accuracy: 0.7078\n",
      "Epoch 91/100\n",
      "32/32 [==============================] - 0s 14ms/step - loss: 0.3812 - accuracy: 0.8875 - val_loss: 0.6311 - val_accuracy: 0.7032\n",
      "Epoch 92/100\n",
      "32/32 [==============================] - 0s 14ms/step - loss: 0.3742 - accuracy: 0.8943 - val_loss: 0.8044 - val_accuracy: 0.6027\n",
      "Epoch 93/100\n",
      "32/32 [==============================] - 0s 14ms/step - loss: 0.4003 - accuracy: 0.8845 - val_loss: 0.7326 - val_accuracy: 0.6210\n",
      "Epoch 94/100\n",
      "32/32 [==============================] - 0s 14ms/step - loss: 0.3875 - accuracy: 0.8914 - val_loss: 0.7203 - val_accuracy: 0.6301\n",
      "Epoch 95/100\n",
      "32/32 [==============================] - 0s 14ms/step - loss: 0.3922 - accuracy: 0.8836 - val_loss: 0.6937 - val_accuracy: 0.6530\n",
      "Epoch 96/100\n",
      "32/32 [==============================] - 0s 14ms/step - loss: 0.3828 - accuracy: 0.8904 - val_loss: 0.7665 - val_accuracy: 0.6210\n",
      "Epoch 97/100\n",
      "32/32 [==============================] - 0s 14ms/step - loss: 0.3763 - accuracy: 0.8933 - val_loss: 0.6678 - val_accuracy: 0.6758\n",
      "Epoch 98/100\n",
      "32/32 [==============================] - 0s 14ms/step - loss: 0.3716 - accuracy: 0.8992 - val_loss: 0.6368 - val_accuracy: 0.6986\n",
      "Epoch 99/100\n",
      "32/32 [==============================] - 0s 14ms/step - loss: 0.3818 - accuracy: 0.8845 - val_loss: 0.5432 - val_accuracy: 0.7945\n",
      "Epoch 100/100\n",
      "32/32 [==============================] - 0s 14ms/step - loss: 0.3848 - accuracy: 0.8924 - val_loss: 0.6158 - val_accuracy: 0.7123\n"
     ]
    }
   ],
   "source": [
    "model_3.compile(optimizer='adam',\n",
    "              loss='binary_crossentropy',\n",
    "              metrics=['accuracy'])\n",
    "hist_3 = model_3.fit(X_train, Y_train,\n",
    "          batch_size=32, epochs=100,\n",
    "          validation_data=(X_val, Y_val))"
   ]
  },
  {
   "cell_type": "markdown",
   "metadata": {},
   "source": [
    "We'll now plot the loss and accuracy graphs for Model 3. You'll notice that the loss is a lot higher at the start, and that's because we've changed our loss function. To plot such that the window is zoomed in between 0 and 1.2 for the loss, we add an additional line of code (plt.ylim) when plotting"
   ]
  },
  {
   "cell_type": "code",
   "execution_count": 29,
   "metadata": {},
   "outputs": [
    {
     "data": {
      "text/plain": "<Figure size 640x480 with 1 Axes>",
      "image/png": "[encoded data removed]"
     },
     "metadata": {},
     "output_type": "display_data"
    }
   ],
   "source": [
    "plt.plot(hist_3.history['loss'])\n",
    "plt.plot(hist_3.history['val_loss'])\n",
    "plt.title('Model loss')\n",
    "plt.ylabel('Loss')\n",
    "plt.xlabel('Epoch')\n",
    "plt.legend(['Train', 'Val'], loc='upper right')\n",
    "plt.ylim(top=1.2, bottom=0)\n",
    "plt.show()"
   ]
  },
  {
   "cell_type": "code",
   "execution_count": 30,
   "metadata": {},
   "outputs": [
    {
     "ename": "KeyError",
     "evalue": "'acc'",
     "output_type": "error",
     "traceback": [
      "\u001B[0;31m---------------------------------------------------------------------------\u001B[0m",
      "\u001B[0;31mKeyError\u001B[0m                                  Traceback (most recent call last)",
      "Cell \u001B[0;32mIn [30], line 1\u001B[0m\n\u001B[0;32m----> 1\u001B[0m plt\u001B[38;5;241m.\u001B[39mplot(\u001B[43mhist_3\u001B[49m\u001B[38;5;241;43m.\u001B[39;49m\u001B[43mhistory\u001B[49m\u001B[43m[\u001B[49m\u001B[38;5;124;43m'\u001B[39;49m\u001B[38;5;124;43macc\u001B[39;49m\u001B[38;5;124;43m'\u001B[39;49m\u001B[43m]\u001B[49m)\n\u001B[1;32m      2\u001B[0m plt\u001B[38;5;241m.\u001B[39mplot(hist_3\u001B[38;5;241m.\u001B[39mhistory[\u001B[38;5;124m'\u001B[39m\u001B[38;5;124mval_acc\u001B[39m\u001B[38;5;124m'\u001B[39m])\n\u001B[1;32m      3\u001B[0m plt\u001B[38;5;241m.\u001B[39mtitle(\u001B[38;5;124m'\u001B[39m\u001B[38;5;124mModel accuracy\u001B[39m\u001B[38;5;124m'\u001B[39m)\n",
      "\u001B[0;31mKeyError\u001B[0m: 'acc'"
     ]
    }
   ],
   "source": [
    "plt.plot(hist_3.history['acc'])\n",
    "plt.plot(hist_3.history['val_acc'])\n",
    "plt.title('Model accuracy')\n",
    "plt.ylabel('Accuracy')\n",
    "plt.xlabel('Epoch')\n",
    "plt.legend(['Train', 'Val'], loc='lower right')\n",
    "plt.show()"
   ]
  },
  {
   "cell_type": "markdown",
   "metadata": {},
   "source": [
    "As compared to Model 2, you should see that there's less overfitting!"
   ]
  },
  {
   "cell_type": "code",
   "execution_count": null,
   "outputs": [],
   "source": [],
   "metadata": {
    "collapsed": false,
    "pycharm": {
     "is_executing": true
    }
   }
  },
  {
   "cell_type": "code",
   "execution_count": 30,
   "outputs": [],
   "source": [],
   "metadata": {
    "collapsed": false
   }
  }
 ],
 "metadata": {
  "kernelspec": {
   "display_name": "Python 3",
   "language": "python",
   "name": "python3"
  },
  "language_info": {
   "codemirror_mode": {
    "name": "ipython",
    "version": 3
   },
   "file_extension": ".py",
   "mimetype": "text/x-python",
   "name": "python",
   "nbconvert_exporter": "python",
   "pygments_lexer": "ipython3",
   "version": "3.6.8"
  }
 },
 "nbformat": 4,
 "nbformat_minor": 2
}
